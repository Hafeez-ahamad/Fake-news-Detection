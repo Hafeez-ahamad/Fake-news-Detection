# Import libraries
import pandas as pd
import numpy as np
from sklearn.model_selection import train_test_split
from sklearn.feature_extraction.text import TfidfVectorizer
from sklearn.naive_bayes import MultinomialNB
from sklearn.metrics import accuracy_score, precision_score, confusion_matrix
import matplotlib.pyplot as plt
import nltk
from nltk.tokenize import word_tokenize

# Download NLTK data
nltk.download('punkt')

# Load data
data = pd.read_csv('../data/fake_news_data.csv')

# Preprocessing
def preprocess_text(text):
    tokens = word_tokenize(text.lower())
    return " ".join(tokens)

data['cleaned_text'] = data['text'].apply(preprocess_text)

# TF-IDF Vectorization
tfidf = TfidfVectorizer(max_features=5000)
X = tfidf.fit_transform(data['cleaned_text']).toarray()
y = data['label']  # 'label' column should have values like 'fake' or 'real'

# Train-test split
X_train, X_test, y_train, y_test = train_test_split(X, y, test_size=0.2, random_state=42)

# Train Naïve Bayes model
model = MultinomialNB()
model.fit(X_train, y_train)

# Evaluate model
y_pred = model.predict(X_test)
print("Accuracy:", accuracy_score(y_test, y_pred))
print("Precision:", precision_score(y_test, y_pred, pos_label='fake'))

# Save model
import joblib
joblib.dump(model, '../models/naive_bayes_model.pkl')
joblib.dump(tfidf, '../models/tfidf_vectorizer.pkl')

# Visualize results
conf_matrix = confusion_matrix(y_test, y_pred)
plt.imshow(conf_matrix, cmap='Blues')
plt.title('Confusion Matrix')
plt.xlabel('Predicted Label')
plt.ylabel('True Label')
plt.xticks([0, 1], ['Real', 'Fake'])
plt.yticks([0, 1], ['Real', 'Fake'])
plt.colorbar()
plt.savefig('../results/confusion_matrix.png')
plt.show()
